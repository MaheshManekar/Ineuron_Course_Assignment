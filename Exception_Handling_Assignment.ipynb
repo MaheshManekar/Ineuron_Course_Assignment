{
  "nbformat": 4,
  "nbformat_minor": 0,
  "metadata": {
    "colab": {
      "provenance": []
    },
    "kernelspec": {
      "name": "python3",
      "display_name": "Python 3"
    },
    "language_info": {
      "name": "python"
    }
  },
  "cells": [
    {
      "cell_type": "code",
      "execution_count": 5,
      "metadata": {
        "colab": {
          "base_uri": "https://localhost:8080/"
        },
        "id": "g-iLHb-S-LbV",
        "outputId": "683e00bc-e3be-4715-f677-2bceee8752fa"
      },
      "outputs": [
        {
          "output_type": "stream",
          "name": "stdout",
          "text": [
            "Division Error\n"
          ]
        }
      ],
      "source": [
        "# Q1- Write a function to compute 5/0 and use try/except to catch the exceptions.\n",
        "\n",
        "def DivisionError():\n",
        "    try:\n",
        "        a=1/0\n",
        "    except:\n",
        "        print('Division Error')\n",
        "\n",
        "DivisionError()"
      ]
    },
    {
      "cell_type": "code",
      "source": [
        "\"\"\"\n",
        "Implement a Python program to generate all sentences where subject is in\n",
        "[\"Americans\", \"Indians\"] and verb is in [\"Play\", \"watch\"] and the object is in\n",
        "[\"Baseball\",\"cricket\"].\n",
        "Hint: Subject,Verb and Object should be declared in the program as shown below.\n",
        "subjects=[\"Americans \",\"Indians\"]\n",
        "verbs=[\"play\",\"watch\"]\n",
        "objects=[\"Baseball\",\"Cricket\"]\n",
        "\"\"\"\n",
        "\n",
        "subjects=[\"Americans \",\"Indians\"]\n",
        "verbs=[\"play\",\"watch\"]\n",
        "objects=[\"Baseball\",\"Cricket\"]\n",
        "\n",
        "for x in range(0,len(subjects)):\n",
        "    for y in range(0,len(verbs)):\n",
        "        for z in range(0,len(objects)):\n",
        "            print(subjects[x]+\" \"+verbs[y]+\" \"+ objects[z]+\".\")"
      ],
      "metadata": {
        "colab": {
          "base_uri": "https://localhost:8080/"
        },
        "id": "iv0AXqMI-_54",
        "outputId": "2a083cdf-33e1-43b8-945e-abd698ea52a7"
      },
      "execution_count": 6,
      "outputs": [
        {
          "output_type": "stream",
          "name": "stdout",
          "text": [
            "Americans  play Baseball.\n",
            "Americans  play Cricket.\n",
            "Americans  watch Baseball.\n",
            "Americans  watch Cricket.\n",
            "Indians play Baseball.\n",
            "Indians play Cricket.\n",
            "Indians watch Baseball.\n",
            "Indians watch Cricket.\n"
          ]
        }
      ]
    },
    {
      "cell_type": "code",
      "source": [],
      "metadata": {
        "id": "1wpiYtbmBI35"
      },
      "execution_count": null,
      "outputs": []
    }
  ]
}