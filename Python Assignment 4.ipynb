{
 "cells": [
  {
   "cell_type": "code",
   "execution_count": 74,
   "id": "0db63bfc",
   "metadata": {},
   "outputs": [
    {
     "name": "stdout",
     "output_type": "stream",
     "text": [
      "Enter the Side a :20\n",
      "Enter the Side b :32\n",
      "Enter the Side c :38\n",
      "The sides of triangle are a=20.0, b=32.0, c=38.0\n",
      "The Area of the triangle is 319.96\n"
     ]
    }
   ],
   "source": [
    "\"\"\"\n",
    "1.1 Write a Python Program(with class concepts) to find the area of the triangle using the below\n",
    "formula.\n",
    "area = (s*(s-a)*(s-b)*(s-c)) ** 0.5\n",
    "Function to take the length of the sides of triangle from user should be defined in the parent\n",
    "class and function to calculate the area should be defined in subclass.\n",
    "\"\"\"\n",
    "\n",
    "\n",
    "# Parent class\n",
    "class Triangle:\n",
    "    def __init__(self):\n",
    "        ''' This method has been used as an self constructor for Traingle class'''\n",
    "        number_of_sides=['a','b','c']\n",
    "        self.TriangleSides=number_of_sides\n",
    "        \n",
    "    def sides_Of_Triangle(self):\n",
    "        ''' This method will return sides of Traingle'''\n",
    "        self.sides_Of_Traingle=[input(\"Enter the Side \"+i+\" :\") for i in self.TriangleSides]\n",
    "        \n",
    "# Sub class       \n",
    "class Traingle_Area(Triangle):\n",
    "    def __init__(self):\n",
    "        '''This method will inherit properties and attrivutes fro Parent class \"Traingle\" and it's class \"TraingleArea\"  '''\n",
    "        Triangle.__init__(self)\n",
    "        \n",
    "    def area_Of_Triangle(self):\n",
    "        '''This method will return an Area of Triangle'''\n",
    "        \n",
    "        # Iterator has been created to iterate sides of triangle from collection\n",
    "        triangleSides=iter(self.sides_Of_Traingle)\n",
    "        a=float(next(triangleSides))\n",
    "        b=float(next(triangleSides))\n",
    "        c=float(next(triangleSides))      \n",
    "           \n",
    "        # Half-perimeter (s) of Triangle         \n",
    "        s= (a+b+c)*0.5        \n",
    "        # Area of Triangle         \n",
    "        Area = (s*(s-a)*(s-b)*(s-c))**0.5    \n",
    "        print(\"The sides of triangle are a=\"+str(a)+\", b=\"+str(b)+\", c=\"+str(c))     \n",
    "        Area = ('The Area of the triangle is %0.2f' %Area )\n",
    "        print(Area)\n",
    "\n",
    "# Create object of Sub class Traingle_Area()\n",
    "Area_Of_Traingle = Traingle_Area()\n",
    "\n",
    "# Enter the sides of Triangle\n",
    "Area_Of_Traingle.sides_Of_Triangle()\n",
    "\n",
    "\n",
    "# Calculating the Area Of Triangle\n",
    "Area_Of_Traingle.area_Of_Triangle()"
   ]
  },
  {
   "cell_type": "code",
   "execution_count": 71,
   "id": "d9ce757e",
   "metadata": {},
   "outputs": [
    {
     "name": "stdout",
     "output_type": "stream",
     "text": [
      "Add Integer value you want to filter:- 4\n",
      "Enter the Words and it should be separated by space:- Ineuron MLDL Course 123\n",
      "Output- ['Ineuron', 'Course']\n"
     ]
    }
   ],
   "source": [
    "import pandas as pd\n",
    "import numpy as np\n",
    "\n",
    "\n",
    "\"\"\"\n",
    "1.2 Write a function filter_long_words() that takes a list of words and an integer n and returns\n",
    "the list of words that are longer than n.\n",
    "\"\"\"\n",
    "lstOfLonWords = []\n",
    "def filter_long_words():\n",
    "    NumOfWords = int(input(\"Add Integer value you want to filter:- \"))\n",
    "    input_list = input(\"Enter the Words and it should be separated by space:- \")\n",
    "    split = input_list.split(\" \")\n",
    "    for i in split:\n",
    "        if len(i) > NumOfWords:\n",
    "            lstOfLonWords.append(i)\n",
    "        else:\n",
    "            pass\n",
    "filter_long_words()\n",
    "\n",
    "print(\"Output-\" ,lstOfLonWords)"
   ]
  },
  {
   "cell_type": "code",
   "execution_count": 60,
   "id": "05c76b51",
   "metadata": {},
   "outputs": [
    {
     "name": "stdout",
     "output_type": "stream",
     "text": [
      "Enter the words with comma separation:- ab,cde,erty\n",
      "Input - list of words- ['ab', 'cde', 'erty']\n",
      "Output- list of integers representing the lengths of the corresponding words:- [2, 3, 4]\n"
     ]
    }
   ],
   "source": [
    "\"\"\"\n",
    "2.1 Write a Python program using function concept that maps list of words into a list of integers\n",
    "representing the lengths of the corresponding words.\n",
    "Hint: If a list [ ab,cde,erty] is passed on to the python function output should come as [2,3,4]\n",
    "Here 2,3 and 4 are the lengths of the words in the list.\n",
    "\"\"\"\n",
    "\n",
    "listOfIntegers = []\n",
    "def WordsToIntegers():\n",
    "    \n",
    "    listOfWords = input(\"Enter the words with comma separation:- \")\n",
    "    split = listOfWords.split(\",\")\n",
    "    print(\"Input - list of words-\",split)\n",
    "    for i in split:\n",
    "        listOfIntegers.append(len(i))\n",
    "        \n",
    "WordsToIntegers()\n",
    "print(\"Output- list of integers representing the lengths of the corresponding words:-\",listOfIntegers)\n"
   ]
  },
  {
   "cell_type": "code",
   "execution_count": 70,
   "id": "99216f01",
   "metadata": {},
   "outputs": [
    {
     "name": "stdout",
     "output_type": "stream",
     "text": [
      "Input- Enter on letter:-a\n",
      "Output- True\n"
     ]
    }
   ],
   "source": [
    "\"\"\"\n",
    "2.2 Write a Python function which takes a character (i.e. a string of length 1) and returns True if\n",
    "it is a vowel, False otherwise.\n",
    "\"\"\"\n",
    "\n",
    "def identify_vowels(a):\n",
    "    if a in [\"a\",\"e\",\"i\",\"o\",\"u\"]:\n",
    "        a = a.lower()\n",
    "        print(\"Output-\",\"True\")\n",
    "    else:\n",
    "        print(\"Output-\"\"False\")\n",
    "        \n",
    "a = input(\"Input- Enter on letter:-\")\n",
    "\n",
    "identify_vowels(a)"
   ]
  },
  {
   "cell_type": "code",
   "execution_count": null,
   "id": "45fb3958",
   "metadata": {},
   "outputs": [],
   "source": []
  }
 ],
 "metadata": {
  "kernelspec": {
   "display_name": "Python 3 (ipykernel)",
   "language": "python",
   "name": "python3"
  },
  "language_info": {
   "codemirror_mode": {
    "name": "ipython",
    "version": 3
   },
   "file_extension": ".py",
   "mimetype": "text/x-python",
   "name": "python",
   "nbconvert_exporter": "python",
   "pygments_lexer": "ipython3",
   "version": "3.9.13"
  }
 },
 "nbformat": 4,
 "nbformat_minor": 5
}
