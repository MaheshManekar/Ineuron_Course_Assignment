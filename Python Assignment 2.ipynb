{
 "cells": [
  {
   "cell_type": "code",
   "execution_count": 1,
   "id": "4e794341",
   "metadata": {},
   "outputs": [
    {
     "name": "stdout",
     "output_type": "stream",
     "text": [
      "* \n",
      "* * \n",
      "* * * \n",
      "* * * * \n",
      "* * * * * \n",
      "* * * * \n",
      "* * * \n",
      "* * \n",
      "* \n",
      "\n"
     ]
    }
   ],
   "source": [
    "\"\"\"\n",
    "Question No 1- Create the below pattern using nested for loop in Python.\n",
    "\n",
    "*\n",
    "* *\n",
    "* * *\n",
    "* * * *\n",
    "* * * * *\n",
    "* * * *\n",
    "* * *\n",
    "* *\n",
    "*\n",
    "\"\"\"\n",
    "\n",
    "#---------------------------------------------------------------------------------------------------------\n",
    "\n",
    "def star_pattern(n):\n",
    "    # Outer loop to handle number of rows\n",
    "    for i in range(1, n+1):\n",
    "        # Inner Loop to handle number of Columns\n",
    "        for j in range(1, i+1):\n",
    "                print(\"* \", end=\"\")\n",
    "        print()\n",
    "    for k in range(1, n+1):\n",
    "        for l in range(1, n+1-k):\n",
    "                print(\"* \", end=\"\")\n",
    "        print()\n",
    "        \n",
    "star_pattern(5)"
   ]
  },
  {
   "cell_type": "code",
   "execution_count": 2,
   "id": "15e819da",
   "metadata": {},
   "outputs": [
    {
     "name": "stdout",
     "output_type": "stream",
     "text": [
      "Enter Desired String which you want to reverse:- ineuron\n",
      "\n",
      "Answer for Desired input:-  norueni\n",
      "\n",
      "Answer as per question:-  norueni\n"
     ]
    }
   ],
   "source": [
    "\"\"\"\n",
    "Question No 2- Write a Python program to reverse a word after accepting the input from the user.\n",
    "\n",
    "Sample Output:\n",
    "Input word: ineuron\n",
    "Output: norueni\"\"\"\n",
    "\n",
    "#------------------------------------------------------------------------------------------------------\n",
    "\n",
    "# Flexible Code - We can input the desired string to reverse it\n",
    "\n",
    "input_string = input(\"Enter Desired String which you want to reverse:- \")\n",
    "print()\n",
    "print(\"Answer for Desired input:- \",input_string[::-1])\n",
    "\n",
    "\n",
    "#------------------------------------------------------------------------------------------------------\n",
    "\n",
    "# Answer but Hard Code Syntax (As per Question itself)\n",
    "\n",
    "input_string1 = \"ineuron\"\n",
    "print()\n",
    "print(\"Answer as per question:- \", input_string1[::-1])\n"
   ]
  },
  {
   "cell_type": "code",
   "execution_count": null,
   "id": "b533c280",
   "metadata": {},
   "outputs": [],
   "source": []
  }
 ],
 "metadata": {
  "kernelspec": {
   "display_name": "Python 3 (ipykernel)",
   "language": "python",
   "name": "python3"
  },
  "language_info": {
   "codemirror_mode": {
    "name": "ipython",
    "version": 3
   },
   "file_extension": ".py",
   "mimetype": "text/x-python",
   "name": "python",
   "nbconvert_exporter": "python",
   "pygments_lexer": "ipython3",
   "version": "3.9.7"
  }
 },
 "nbformat": 4,
 "nbformat_minor": 5
}
